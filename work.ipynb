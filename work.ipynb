{
 "cells": [
  {
   "cell_type": "markdown",
   "id": "c14203d3",
   "metadata": {},
   "source": [
    "# **<span style=\"color:orange\">Data Analysis on Rainfall Dataset</span>**"
   ]
  },
  {
   "cell_type": "markdown",
   "id": "c94c9c7c",
   "metadata": {},
   "source": [
    "### Required Libraries....................................................."
   ]
  },
  {
   "cell_type": "code",
   "execution_count": 17,
   "id": "a839ce17",
   "metadata": {},
   "outputs": [],
   "source": [
    "import pandas as pd\n",
    "import numpy as np\n",
    "import matplotlib.pyplot as plt\n",
    "import seaborn as sns"
   ]
  },
  {
   "cell_type": "markdown",
   "id": "0b97fd1b",
   "metadata": {},
   "source": [
    "## **<span style=\"color:yellow\">Loading Dataset</span>**"
   ]
  },
  {
   "cell_type": "code",
   "execution_count": 18,
   "id": "353fe622",
   "metadata": {},
   "outputs": [
    {
     "data": {
      "text/html": [
       "<div>\n",
       "<style scoped>\n",
       "    .dataframe tbody tr th:only-of-type {\n",
       "        vertical-align: middle;\n",
       "    }\n",
       "\n",
       "    .dataframe tbody tr th {\n",
       "        vertical-align: top;\n",
       "    }\n",
       "\n",
       "    .dataframe thead th {\n",
       "        text-align: right;\n",
       "    }\n",
       "</style>\n",
       "<table border=\"1\" class=\"dataframe\">\n",
       "  <thead>\n",
       "    <tr style=\"text-align: right;\">\n",
       "      <th></th>\n",
       "      <th>date</th>\n",
       "      <th>rainfall</th>\n",
       "      <th>temperature</th>\n",
       "      <th>humidity</th>\n",
       "      <th>wind_speed</th>\n",
       "      <th>weather_condition</th>\n",
       "    </tr>\n",
       "  </thead>\n",
       "  <tbody>\n",
       "    <tr>\n",
       "      <th>0</th>\n",
       "      <td>2022-01-01</td>\n",
       "      <td>12.5</td>\n",
       "      <td>15.2</td>\n",
       "      <td>78.0</td>\n",
       "      <td>8.5</td>\n",
       "      <td>Rainy</td>\n",
       "    </tr>\n",
       "    <tr>\n",
       "      <th>1</th>\n",
       "      <td>2022-01-02</td>\n",
       "      <td>8.2</td>\n",
       "      <td>17.8</td>\n",
       "      <td>65.0</td>\n",
       "      <td>5.2</td>\n",
       "      <td>Rainy</td>\n",
       "    </tr>\n",
       "    <tr>\n",
       "      <th>2</th>\n",
       "      <td>2022-01-03</td>\n",
       "      <td>0.0</td>\n",
       "      <td>20.1</td>\n",
       "      <td>52.0</td>\n",
       "      <td>3.1</td>\n",
       "      <td>Sunny</td>\n",
       "    </tr>\n",
       "    <tr>\n",
       "      <th>3</th>\n",
       "      <td>2022-01-04</td>\n",
       "      <td>3.7</td>\n",
       "      <td>18.6</td>\n",
       "      <td>71.0</td>\n",
       "      <td>6.7</td>\n",
       "      <td>Rainy</td>\n",
       "    </tr>\n",
       "    <tr>\n",
       "      <th>4</th>\n",
       "      <td>2022-01-05</td>\n",
       "      <td>21.1</td>\n",
       "      <td>14.8</td>\n",
       "      <td>82.0</td>\n",
       "      <td>9.3</td>\n",
       "      <td>Rainy</td>\n",
       "    </tr>\n",
       "  </tbody>\n",
       "</table>\n",
       "</div>"
      ],
      "text/plain": [
       "         date  rainfall  temperature  humidity  wind_speed weather_condition\n",
       "0  2022-01-01      12.5         15.2      78.0         8.5             Rainy\n",
       "1  2022-01-02       8.2         17.8      65.0         5.2             Rainy\n",
       "2  2022-01-03       0.0         20.1      52.0         3.1             Sunny\n",
       "3  2022-01-04       3.7         18.6      71.0         6.7             Rainy\n",
       "4  2022-01-05      21.1         14.8      82.0         9.3             Rainy"
      ]
     },
     "execution_count": 18,
     "metadata": {},
     "output_type": "execute_result"
    }
   ],
   "source": [
    "data = pd.read_csv('rainfall.csv')\n",
    "data.head()"
   ]
  },
  {
   "cell_type": "markdown",
   "id": "07d4f6c2",
   "metadata": {},
   "source": [
    "## **<span style=\"color:yellow\">Handling Null Values</span>**"
   ]
  },
  {
   "cell_type": "markdown",
   "id": "be987bc6",
   "metadata": {},
   "source": [
    "### **Checking is there any Null value or not**"
   ]
  },
  {
   "cell_type": "code",
   "execution_count": 19,
   "id": "4ebbb84d",
   "metadata": {},
   "outputs": [
    {
     "name": "stdout",
     "output_type": "stream",
     "text": [
      "<class 'pandas.core.frame.DataFrame'>\n",
      "RangeIndex: 54 entries, 0 to 53\n",
      "Data columns (total 6 columns):\n",
      " #   Column             Non-Null Count  Dtype  \n",
      "---  ------             --------------  -----  \n",
      " 0   date               54 non-null     object \n",
      " 1   rainfall           53 non-null     float64\n",
      " 2   temperature        53 non-null     float64\n",
      " 3   humidity           53 non-null     float64\n",
      " 4   wind_speed         53 non-null     float64\n",
      " 5   weather_condition  53 non-null     object \n",
      "dtypes: float64(4), object(2)\n",
      "memory usage: 2.7+ KB\n"
     ]
    }
   ],
   "source": [
    "data.info()"
   ]
  },
  {
   "cell_type": "markdown",
   "id": "136f6a90",
   "metadata": {},
   "source": [
    "### **We have some Null values. so we need to remove those tuples**"
   ]
  },
  {
   "cell_type": "code",
   "execution_count": 22,
   "id": "bad43611",
   "metadata": {},
   "outputs": [
    {
     "name": "stdout",
     "output_type": "stream",
     "text": [
      "<class 'pandas.core.frame.DataFrame'>\n",
      "Index: 53 entries, 0 to 52\n",
      "Data columns (total 6 columns):\n",
      " #   Column             Non-Null Count  Dtype  \n",
      "---  ------             --------------  -----  \n",
      " 0   date               53 non-null     object \n",
      " 1   rainfall           53 non-null     float64\n",
      " 2   temperature        53 non-null     float64\n",
      " 3   humidity           53 non-null     float64\n",
      " 4   wind_speed         53 non-null     float64\n",
      " 5   weather_condition  53 non-null     object \n",
      "dtypes: float64(4), object(2)\n",
      "memory usage: 2.9+ KB\n"
     ]
    }
   ],
   "source": [
    "data.dropna(inplace=True)\n",
    "data.info()"
   ]
  },
  {
   "cell_type": "markdown",
   "id": "3905a42f",
   "metadata": {},
   "source": [
    "**<span style=\"color:red\">Now we successfully remove Null values.</span>**\n",
    "\n",
    "<ul>\n",
    "    <li>Previously we Have 54 tuples and one of them have Null values.</li>\n",
    "    <li>Now we have 53 tuples without any Null values.</li>\n",
    "</ul>\n",
    "\n",
    "\n",
    "\n",
    "<ul>\n",
    "    <li>We used <b>.info()</b> for check Null value was there or not.</li>\n",
    "    <li>then we used <b>.dropna()</b> for remove Null values from data.</li>\n",
    "</ul>\n"
   ]
  },
  {
   "cell_type": "markdown",
   "id": "0040683c",
   "metadata": {},
   "source": [
    "## **<span style=\"color:yellow\">Handling Duplicate tuple</span>**"
   ]
  },
  {
   "cell_type": "code",
   "execution_count": 26,
   "id": "33fc0f96",
   "metadata": {},
   "outputs": [
    {
     "name": "stdout",
     "output_type": "stream",
     "text": [
      "Total number of duplicate tuples :  0\n"
     ]
    }
   ],
   "source": [
    "print(\"Total number of duplicate tuples : \",data.duplicated().sum()) "
   ]
  },
  {
   "cell_type": "markdown",
   "id": "8b863b98",
   "metadata": {},
   "source": [
    "**<span style=\"color:red\">There is no duplicate tuples</span>**\n",
    "\n",
    "<ul>\n",
    "    <li>We used <b>.duplicated().sum()</b> for check Duplicate value was there or not.</li>\n",
    "</ul>\n"
   ]
  },
  {
   "cell_type": "markdown",
   "id": "e87bc30f",
   "metadata": {},
   "source": [
    "<br>\n",
    "<br>\n",
    "<br>\n",
    "\n",
    "## **<span style=\"color:yellow\">Convert Object type date to time series date</span>**"
   ]
  },
  {
   "cell_type": "code",
   "execution_count": 27,
   "id": "5f549211",
   "metadata": {},
   "outputs": [
    {
     "data": {
      "text/html": [
       "<div>\n",
       "<style scoped>\n",
       "    .dataframe tbody tr th:only-of-type {\n",
       "        vertical-align: middle;\n",
       "    }\n",
       "\n",
       "    .dataframe tbody tr th {\n",
       "        vertical-align: top;\n",
       "    }\n",
       "\n",
       "    .dataframe thead th {\n",
       "        text-align: right;\n",
       "    }\n",
       "</style>\n",
       "<table border=\"1\" class=\"dataframe\">\n",
       "  <thead>\n",
       "    <tr style=\"text-align: right;\">\n",
       "      <th></th>\n",
       "      <th>date</th>\n",
       "      <th>rainfall</th>\n",
       "      <th>temperature</th>\n",
       "      <th>humidity</th>\n",
       "      <th>wind_speed</th>\n",
       "      <th>weather_condition</th>\n",
       "    </tr>\n",
       "  </thead>\n",
       "  <tbody>\n",
       "    <tr>\n",
       "      <th>0</th>\n",
       "      <td>2022-01-01</td>\n",
       "      <td>12.5</td>\n",
       "      <td>15.2</td>\n",
       "      <td>78.0</td>\n",
       "      <td>8.5</td>\n",
       "      <td>Rainy</td>\n",
       "    </tr>\n",
       "    <tr>\n",
       "      <th>1</th>\n",
       "      <td>2022-01-02</td>\n",
       "      <td>8.2</td>\n",
       "      <td>17.8</td>\n",
       "      <td>65.0</td>\n",
       "      <td>5.2</td>\n",
       "      <td>Rainy</td>\n",
       "    </tr>\n",
       "    <tr>\n",
       "      <th>2</th>\n",
       "      <td>2022-01-03</td>\n",
       "      <td>0.0</td>\n",
       "      <td>20.1</td>\n",
       "      <td>52.0</td>\n",
       "      <td>3.1</td>\n",
       "      <td>Sunny</td>\n",
       "    </tr>\n",
       "    <tr>\n",
       "      <th>3</th>\n",
       "      <td>2022-01-04</td>\n",
       "      <td>3.7</td>\n",
       "      <td>18.6</td>\n",
       "      <td>71.0</td>\n",
       "      <td>6.7</td>\n",
       "      <td>Rainy</td>\n",
       "    </tr>\n",
       "    <tr>\n",
       "      <th>4</th>\n",
       "      <td>2022-01-05</td>\n",
       "      <td>21.1</td>\n",
       "      <td>14.8</td>\n",
       "      <td>82.0</td>\n",
       "      <td>9.3</td>\n",
       "      <td>Rainy</td>\n",
       "    </tr>\n",
       "  </tbody>\n",
       "</table>\n",
       "</div>"
      ],
      "text/plain": [
       "        date  rainfall  temperature  humidity  wind_speed weather_condition\n",
       "0 2022-01-01      12.5         15.2      78.0         8.5             Rainy\n",
       "1 2022-01-02       8.2         17.8      65.0         5.2             Rainy\n",
       "2 2022-01-03       0.0         20.1      52.0         3.1             Sunny\n",
       "3 2022-01-04       3.7         18.6      71.0         6.7             Rainy\n",
       "4 2022-01-05      21.1         14.8      82.0         9.3             Rainy"
      ]
     },
     "execution_count": 27,
     "metadata": {},
     "output_type": "execute_result"
    }
   ],
   "source": [
    "data['date'] = pd.to_datetime(data['date'], format='%Y-%m-%d')\n",
    "data.head()"
   ]
  },
  {
   "cell_type": "markdown",
   "id": "85b78fc2",
   "metadata": {},
   "source": [
    "<br>\n",
    "<br>\n",
    "<br>\n",
    "<br>\n",
    "<br>\n",
    "<br>\n",
    "<br>\n",
    "<br>\n",
    "<br>\n",
    "<br>\n",
    "<br>\n",
    "<br>"
   ]
  },
  {
   "cell_type": "markdown",
   "id": "1ea7b4ba",
   "metadata": {},
   "source": [
    "## **<span style=\"color:yellow\">Start Analysis</span>**"
   ]
  },
  {
   "cell_type": "code",
   "execution_count": 42,
   "id": "fdee90ec",
   "metadata": {},
   "outputs": [
    {
     "data": {
      "text/html": [
       "<div>\n",
       "<style scoped>\n",
       "    .dataframe tbody tr th:only-of-type {\n",
       "        vertical-align: middle;\n",
       "    }\n",
       "\n",
       "    .dataframe tbody tr th {\n",
       "        vertical-align: top;\n",
       "    }\n",
       "\n",
       "    .dataframe thead th {\n",
       "        text-align: right;\n",
       "    }\n",
       "</style>\n",
       "<table border=\"1\" class=\"dataframe\">\n",
       "  <thead>\n",
       "    <tr style=\"text-align: right;\">\n",
       "      <th></th>\n",
       "      <th>rainfall</th>\n",
       "      <th>temperature</th>\n",
       "      <th>humidity</th>\n",
       "      <th>wind_speed</th>\n",
       "    </tr>\n",
       "  </thead>\n",
       "  <tbody>\n",
       "    <tr>\n",
       "      <th>count</th>\n",
       "      <td>53.000000</td>\n",
       "      <td>53.000000</td>\n",
       "      <td>53.000000</td>\n",
       "      <td>53.000000</td>\n",
       "    </tr>\n",
       "    <tr>\n",
       "      <th>mean</th>\n",
       "      <td>9.049057</td>\n",
       "      <td>17.950943</td>\n",
       "      <td>69.245283</td>\n",
       "      <td>6.403774</td>\n",
       "    </tr>\n",
       "    <tr>\n",
       "      <th>std</th>\n",
       "      <td>6.712521</td>\n",
       "      <td>2.500663</td>\n",
       "      <td>11.969361</td>\n",
       "      <td>2.209069</td>\n",
       "    </tr>\n",
       "    <tr>\n",
       "      <th>min</th>\n",
       "      <td>0.000000</td>\n",
       "      <td>13.900000</td>\n",
       "      <td>44.000000</td>\n",
       "      <td>2.100000</td>\n",
       "    </tr>\n",
       "    <tr>\n",
       "      <th>25%</th>\n",
       "      <td>3.900000</td>\n",
       "      <td>16.100000</td>\n",
       "      <td>62.000000</td>\n",
       "      <td>4.700000</td>\n",
       "    </tr>\n",
       "    <tr>\n",
       "      <th>50%</th>\n",
       "      <td>8.300000</td>\n",
       "      <td>17.800000</td>\n",
       "      <td>72.000000</td>\n",
       "      <td>6.700000</td>\n",
       "    </tr>\n",
       "    <tr>\n",
       "      <th>75%</th>\n",
       "      <td>14.800000</td>\n",
       "      <td>19.400000</td>\n",
       "      <td>78.000000</td>\n",
       "      <td>8.300000</td>\n",
       "    </tr>\n",
       "    <tr>\n",
       "      <th>max</th>\n",
       "      <td>21.800000</td>\n",
       "      <td>23.400000</td>\n",
       "      <td>89.000000</td>\n",
       "      <td>10.500000</td>\n",
       "    </tr>\n",
       "  </tbody>\n",
       "</table>\n",
       "</div>"
      ],
      "text/plain": [
       "        rainfall  temperature   humidity  wind_speed\n",
       "count  53.000000    53.000000  53.000000   53.000000\n",
       "mean    9.049057    17.950943  69.245283    6.403774\n",
       "std     6.712521     2.500663  11.969361    2.209069\n",
       "min     0.000000    13.900000  44.000000    2.100000\n",
       "25%     3.900000    16.100000  62.000000    4.700000\n",
       "50%     8.300000    17.800000  72.000000    6.700000\n",
       "75%    14.800000    19.400000  78.000000    8.300000\n",
       "max    21.800000    23.400000  89.000000   10.500000"
      ]
     },
     "execution_count": 42,
     "metadata": {},
     "output_type": "execute_result"
    }
   ],
   "source": [
    "data[['rainfall','temperature','humidity','wind_speed']].describe()"
   ]
  },
  {
   "cell_type": "code",
   "execution_count": null,
   "id": "ceebaaea",
   "metadata": {},
   "outputs": [],
   "source": []
  }
 ],
 "metadata": {
  "kernelspec": {
   "display_name": "Python 3",
   "language": "python",
   "name": "python3"
  },
  "language_info": {
   "codemirror_mode": {
    "name": "ipython",
    "version": 3
   },
   "file_extension": ".py",
   "mimetype": "text/x-python",
   "name": "python",
   "nbconvert_exporter": "python",
   "pygments_lexer": "ipython3",
   "version": "3.12.3"
  }
 },
 "nbformat": 4,
 "nbformat_minor": 5
}
